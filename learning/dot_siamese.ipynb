{
 "cells": [
  {
   "cell_type": "code",
   "execution_count": 1,
   "metadata": {},
   "outputs": [
    {
     "name": "stdout",
     "output_type": "stream",
     "text": [
      "The following GPU devices are available: /device:GPU:0\n"
     ]
    }
   ],
   "source": [
    "import tensorflow as tf\n",
    "config = tf.ConfigProto()\n",
    "config.gpu_options.allow_growth = True\n",
    "sess = tf.Session(config = config)\n",
    "\n",
    "# Check available GPU devices.\n",
    "print(\"The following GPU devices are available: %s\" % tf.test.gpu_device_name())"
   ]
  },
  {
   "cell_type": "markdown",
   "metadata": {},
   "source": [
    "**Note** : if you encounter an error running any of the examples below consider restarting the kernel and running this cell first"
   ]
  },
  {
   "cell_type": "code",
   "execution_count": 2,
   "metadata": {},
   "outputs": [
    {
     "name": "stderr",
     "output_type": "stream",
     "text": [
      "Using TensorFlow backend.\n"
     ]
    }
   ],
   "source": [
    "from keras.callbacks import History, ReduceLROnPlateau,EarlyStopping"
   ]
  },
  {
   "cell_type": "code",
   "execution_count": 6,
   "metadata": {},
   "outputs": [],
   "source": [
    "model_params = {\n",
    "    \"max_atoms\" : int(60), \"num_atom_features\" : int(62), \"max_degree\" : int(5), \"num_bond_features\" : int(6),\n",
    "    \"graph_conv_width\" : [128,128,128], \"conv1d_filters\" : int(128), \"conv1d_size\" : int(29), \"dropout_encoder\" : 0.25,\n",
    "    \"conv1d_filters_dist\" : [128], \"conv1d_size_dist\" : [32], \"dropout_dist\" : 0.25, \"pool_size\" : int(4),\n",
    "    \"dense_size\" : [256,128,128], \"l2reg\" : 0.01, \"dist_thresh\" : 0.2, \"lr\" : 0.001 ,\"ConGauss\":False\n",
    "}#pool_size,dense_size aren't used in the model,but they can be used if the comments in dot_siamese_model.py are removed\n",
    "\n",
    "train_params = {\n",
    "    \"cell_line\" : \"vcap\", \"split\" : \"5_fold_cv_split\", \"number_folds\" : [2],\n",
    "    \"output_dir\" : \"/home/biolab/Documents/Go distances/deepSIBA/results\",\n",
    "    \"batch_size\" : int(128), \"epochs\" : int(20), \n",
    "    \"N_ensemble\" : int(10), \"nmodel_start\" : int(0), \"prec_threshold\" : 0.2,\n",
    "    \"test_value_norm\" : False,\n",
    "    \"predict_batch_size\":int(2048)\n",
    "}\n",
    "\n",
    "\n",
    "#encoder_params = {\n",
    "#        \"num_layers\" : 3,\n",
    "#        \"max_atoms\" : 60,\n",
    "#        \"num_atom_features\" : 62,\n",
    "#        \"num_atom_features_original\" : 62,\n",
    "#        \"num_bond_features\" : 6,\n",
    "#        \"max_degree\" : 5,\n",
    "#        \"conv_width\" : [128,128,128],\n",
    "#        \"fp_length\" : [96,96,96],\n",
    "#        \"activ_enc\" : \"selu\",\n",
    "#        \"activ_dec\" : \"selu\",\n",
    "#        \"learning_rates\" : [0.001,0.001,0.001],\n",
    "#        \"learning_rates_fp\": [0.005,0.005,0.005],\n",
    "#        \"losses_conv\" : {\n",
    "#                    \"neighbor_output\": \"mean_squared_error\",\n",
    "#                    \"self_output\": \"mean_squared_error\",\n",
    "#                    },\n",
    "#        \"lossWeights\" : {\"neighbor_output\": 1.0, \"self_output\": 1.0},\n",
    "#        \"metrics\" : \"mse\",\n",
    "#        \"loss_fp\" : \"mean_squared_error\",\n",
    "#        \"enc_layer_names\" : [\"enc_1\", \"enc_2\", \"enc_3\"],\n",
    "#        'callbacks' : [EarlyStopping(monitor='loss',patience=8, min_delta=0), ReduceLROnPlateau(monitor='loss',factor=0.5, patience=4, verbose=1, min_lr=0.0000001)],\n",
    "#        'adam_decay': 0.0005329142291371636,\n",
    "#        'beta': 5,\n",
    "#        'p': 0.004465204118126482\n",
    "#        }\n"
   ]
  },
  {
   "cell_type": "code",
   "execution_count": null,
   "metadata": {
    "scrolled": true
   },
   "outputs": [],
   "source": [
    "from dot_siamese_model import siamese_model,enc_graph\n",
    "siamese_net=siamese_model(model_params)\n",
    "print(siamese_net.summary())"
   ]
  },
  {
   "cell_type": "code",
   "execution_count": null,
   "metadata": {},
   "outputs": [],
   "source": [
    "from dot_siamese_train import siba_trainer\n",
    "example_1 = siba_trainer(train_params, model_params)"
   ]
  }
 ],
 "metadata": {
  "kernelspec": {
   "display_name": "Python 3",
   "language": "python",
   "name": "python3"
  },
  "language_info": {
   "codemirror_mode": {
    "name": "ipython",
    "version": 3
   },
   "file_extension": ".py",
   "mimetype": "text/x-python",
   "name": "python",
   "nbconvert_exporter": "python",
   "pygments_lexer": "ipython3",
   "version": "3.7.3"
  }
 },
 "nbformat": 4,
 "nbformat_minor": 2
}
